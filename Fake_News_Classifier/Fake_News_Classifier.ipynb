{
 "cells": [
  {
   "cell_type": "code",
   "execution_count": 4,
   "id": "c6da9775",
   "metadata": {
    "ExecuteTime": {
     "end_time": "2024-02-11T15:52:04.873027Z",
     "start_time": "2024-02-11T15:52:04.865906Z"
    }
   },
   "outputs": [],
   "source": [
    "import pandas as pd\n",
    "import numpy as np\n",
    "import seaborn as sns\n",
    "import matplotlib.pyplot as plt\n",
    "%matplotlib inline\n",
    "import nltk\n",
    "# !pip install wordcloud==1.8.0\n",
    "import re\n",
    "import string\n",
    "import warnings\n",
    "warnings.filterwarnings('ignore')"
   ]
  },
  {
   "cell_type": "code",
   "execution_count": 5,
   "id": "7c4fa197",
   "metadata": {
    "ExecuteTime": {
     "end_time": "2024-02-11T15:52:06.156501Z",
     "start_time": "2024-02-11T15:52:06.150553Z"
    }
   },
   "outputs": [],
   "source": [
    "from sklearn.model_selection import train_test_split\n",
    "from sklearn.metrics import accuracy_score\n",
    "from sklearn.metrics import classification_report\n",
    "\n",
    "from sklearn.feature_extraction.text import TfidfVectorizer\n",
    "from sklearn.linear_model import LogisticRegression\n",
    "from sklearn.tree import DecisionTreeClassifier\n",
    "from sklearn.ensemble import GradientBoostingClassifier\n",
    "\n",
    "from sklearn.pipeline import Pipeline\n",
    "from sklearn.feature_extraction.text import TfidfTransformer\n",
    "from sklearn.feature_extraction.text import CountVectorizer\n",
    "from sklearn.naive_bayes import MultinomialNB\n",
    "from sklearn.metrics import accuracy_score, confusion_matrix\n",
    "import sklearn.metrics as metrics\n",
    "from mlxtend.plotting import plot_confusion_matrix"
   ]
  },
  {
   "cell_type": "code",
   "execution_count": 6,
   "id": "a5f9fa65",
   "metadata": {
    "ExecuteTime": {
     "end_time": "2024-02-11T15:52:09.453439Z",
     "start_time": "2024-02-11T15:52:08.588627Z"
    }
   },
   "outputs": [
    {
     "data": {
      "text/html": [
       "<div>\n",
       "<style scoped>\n",
       "    .dataframe tbody tr th:only-of-type {\n",
       "        vertical-align: middle;\n",
       "    }\n",
       "\n",
       "    .dataframe tbody tr th {\n",
       "        vertical-align: top;\n",
       "    }\n",
       "\n",
       "    .dataframe thead th {\n",
       "        text-align: right;\n",
       "    }\n",
       "</style>\n",
       "<table border=\"1\" class=\"dataframe\">\n",
       "  <thead>\n",
       "    <tr style=\"text-align: right;\">\n",
       "      <th></th>\n",
       "      <th>title</th>\n",
       "      <th>text</th>\n",
       "      <th>subject</th>\n",
       "      <th>date</th>\n",
       "      <th>label</th>\n",
       "    </tr>\n",
       "  </thead>\n",
       "  <tbody>\n",
       "    <tr>\n",
       "      <th>0</th>\n",
       "      <td>Trump Accuses Clinton Of ‘Raping Our Country’</td>\n",
       "      <td>In a statement that was attempting to appeal t...</td>\n",
       "      <td>News</td>\n",
       "      <td>June 29, 2016</td>\n",
       "      <td>0</td>\n",
       "    </tr>\n",
       "    <tr>\n",
       "      <th>1</th>\n",
       "      <td>PROOF THAT TRUMP WAS DEAD ON: NJ Rooftop Parti...</td>\n",
       "      <td>Donald Trump was right again! This is yet anot...</td>\n",
       "      <td>Government News</td>\n",
       "      <td>Nov 23, 2015</td>\n",
       "      <td>0</td>\n",
       "    </tr>\n",
       "    <tr>\n",
       "      <th>2</th>\n",
       "      <td>Trump Just Got Ripped To F*cking Shreds After...</td>\n",
       "      <td>Between Trump s daily tantrums before I ve eve...</td>\n",
       "      <td>News</td>\n",
       "      <td>January 13, 2017</td>\n",
       "      <td>0</td>\n",
       "    </tr>\n",
       "    <tr>\n",
       "      <th>3</th>\n",
       "      <td>In One GLORIOUS Move, CNN REFUSES To Bow Down...</td>\n",
       "      <td>If there s one thing Donald Trump wants, it s ...</td>\n",
       "      <td>News</td>\n",
       "      <td>March 6, 2017</td>\n",
       "      <td>0</td>\n",
       "    </tr>\n",
       "    <tr>\n",
       "      <th>4</th>\n",
       "      <td>Sean Hannity Is Throwing A Stage-4 Temper Tan...</td>\n",
       "      <td>We re not sure why Fox News host Sean Hannity ...</td>\n",
       "      <td>News</td>\n",
       "      <td>November 28, 2017</td>\n",
       "      <td>0</td>\n",
       "    </tr>\n",
       "  </tbody>\n",
       "</table>\n",
       "</div>"
      ],
      "text/plain": [
       "                                               title  \\\n",
       "0      Trump Accuses Clinton Of ‘Raping Our Country’   \n",
       "1  PROOF THAT TRUMP WAS DEAD ON: NJ Rooftop Parti...   \n",
       "2   Trump Just Got Ripped To F*cking Shreds After...   \n",
       "3   In One GLORIOUS Move, CNN REFUSES To Bow Down...   \n",
       "4   Sean Hannity Is Throwing A Stage-4 Temper Tan...   \n",
       "\n",
       "                                                text          subject  \\\n",
       "0  In a statement that was attempting to appeal t...             News   \n",
       "1  Donald Trump was right again! This is yet anot...  Government News   \n",
       "2  Between Trump s daily tantrums before I ve eve...             News   \n",
       "3  If there s one thing Donald Trump wants, it s ...             News   \n",
       "4  We re not sure why Fox News host Sean Hannity ...             News   \n",
       "\n",
       "                date  label  \n",
       "0      June 29, 2016      0  \n",
       "1       Nov 23, 2015      0  \n",
       "2   January 13, 2017      0  \n",
       "3      March 6, 2017      0  \n",
       "4  November 28, 2017      0  "
      ]
     },
     "execution_count": 6,
     "metadata": {},
     "output_type": "execute_result"
    }
   ],
   "source": [
    "fake_data = pd.read_csv('./Data/Fake.csv')\n",
    "real_data = pd.read_csv('./Data/True.csv')\n",
    "\n",
    "fake_data['label'] = 0\n",
    "real_data['label'] = 1\n",
    "\n",
    "\n",
    "data = pd.concat([fake_data,real_data]).sample(frac = 1).reset_index(drop=True) # doing random shuffling as well\n",
    "data.head()"
   ]
  },
  {
   "cell_type": "code",
   "execution_count": 56,
   "id": "ae17b03a",
   "metadata": {},
   "outputs": [
    {
     "data": {
      "text/plain": [
       "label\n",
       "0    23481\n",
       "1    21417\n",
       "Name: count, dtype: int64"
      ]
     },
     "execution_count": 56,
     "metadata": {},
     "output_type": "execute_result"
    }
   ],
   "source": [
    "data['label'].value_counts()"
   ]
  },
  {
   "cell_type": "code",
   "execution_count": 57,
   "id": "5e66e55a",
   "metadata": {
    "ExecuteTime": {
     "end_time": "2024-02-06T22:51:21.150662Z",
     "start_time": "2024-02-06T22:51:20.509879Z"
    }
   },
   "outputs": [
    {
     "data": {
      "text/plain": [
       "<Axes: xlabel='label'>"
      ]
     },
     "execution_count": 57,
     "metadata": {},
     "output_type": "execute_result"
    },
    {
     "data": {
      "image/png": "[encoded data removed]",
      "text/plain": [
       "<Figure size 640x480 with 1 Axes>"
      ]
     },
     "metadata": {},
     "output_type": "display_data"
    }
   ],
   "source": [
    "# Checking distribution of real vs fake records\n",
    "\n",
    "data['label'].value_counts(normalize=True).plot(kind='bar')"
   ]
  },
  {
   "cell_type": "markdown",
   "id": "efe9c059",
   "metadata": {},
   "source": [
    "- So, dataset is balanced"
   ]
  },
  {
   "cell_type": "code",
   "execution_count": 58,
   "id": "acd8f482",
   "metadata": {
    "ExecuteTime": {
     "end_time": "2024-02-06T19:23:57.006447Z",
     "start_time": "2024-02-06T19:23:56.984092Z"
    }
   },
   "outputs": [
    {
     "data": {
      "text/plain": [
       "title      0\n",
       "text       0\n",
       "subject    0\n",
       "date       0\n",
       "label      0\n",
       "dtype: int64"
      ]
     },
     "execution_count": 58,
     "metadata": {},
     "output_type": "execute_result"
    }
   ],
   "source": [
    "data.isnull().sum() # No nulll records"
   ]
  },
  {
   "cell_type": "code",
   "execution_count": 59,
   "id": "1092f020",
   "metadata": {
    "ExecuteTime": {
     "end_time": "2024-02-06T19:23:57.089038Z",
     "start_time": "2024-02-06T19:23:57.008165Z"
    }
   },
   "outputs": [
    {
     "data": {
      "text/plain": [
       "<Axes: xlabel='subject'>"
      ]
     },
     "execution_count": 59,
     "metadata": {},
     "output_type": "execute_result"
    },
    {
     "data": {
      "image/png": "[encoded data removed]",
      "text/plain": [
       "<Figure size 640x480 with 1 Axes>"
      ]
     },
     "metadata": {},
     "output_type": "display_data"
    }
   ],
   "source": [
    "# Examining subject level records and distribution of real vs fake records\n",
    "data['subject'].value_counts(normalize=True).plot(kind='bar')"
   ]
  },
  {
   "cell_type": "markdown",
   "id": "13c6bd6e",
   "metadata": {},
   "source": [
    "- politicsNews (25%), followed by worldnews (close to 23%) have the highest number of records"
   ]
  },
  {
   "cell_type": "markdown",
   "id": "943f0a98",
   "metadata": {},
   "source": [
    "politicsNews & politics can be combined under same category as represent the same domain for news"
   ]
  },
  {
   "cell_type": "code",
   "execution_count": 60,
   "id": "66d81fce",
   "metadata": {
    "ExecuteTime": {
     "end_time": "2024-02-06T19:23:57.753005Z",
     "start_time": "2024-02-06T19:23:57.732144Z"
    }
   },
   "outputs": [],
   "source": [
    "data.subject = data.subject.replace({\n",
    "    'politics': 'PoliticsNews',\n",
    "    'politicsNews': 'PoliticsNews'\n",
    "})"
   ]
  },
  {
   "cell_type": "code",
   "execution_count": 61,
   "id": "e5da8547",
   "metadata": {
    "ExecuteTime": {
     "end_time": "2024-02-06T19:23:58.105234Z",
     "start_time": "2024-02-06T19:23:57.944524Z"
    }
   },
   "outputs": [
    {
     "name": "stderr",
     "output_type": "stream",
     "text": [
      "/var/folders/yq/7ltbtjt54k7078ql5gkjfxcw0000gp/T/ipykernel_47014/1343942821.py:5: UserWarning: set_ticklabels() should only be used with a fixed number of ticks, i.e. after set_ticks() or using a FixedLocator.\n",
      "  chart.set_xticklabels(chart.get_xticklabels(),rotation=90)\n"
     ]
    },
    {
     "data": {
      "text/plain": [
       "[Text(0, 0, '0'), Text(1, 0, '1')]"
      ]
     },
     "execution_count": 61,
     "metadata": {},
     "output_type": "execute_result"
    },
    {
     "data": {
      "image/png": "[encoded data removed]",
      "text/plain": [
       "<Figure size 1000x1000 with 1 Axes>"
      ]
     },
     "metadata": {},
     "output_type": "display_data"
    }
   ],
   "source": [
    "# Digging further to identify the distribution of fake vs real in each subject\n",
    "plt.figure(figsize = (10,10))\n",
    "sns.set_style(\"dark\")\n",
    "chart = sns.countplot(x = \"label\", hue = \"subject\" , data = data , palette = 'muted')\n",
    "chart.set_xticklabels(chart.get_xticklabels(),rotation=90)"
   ]
  },
  {
   "cell_type": "markdown",
   "id": "d5e23ef6",
   "metadata": {},
   "source": [
    "- It seems all real news belongs to only 2 subjects politicsNews, worldNews.\n",
    "- we can't use Subject as input feature because it directly defines the label of the news. So which will cause overfitting to the classification model"
   ]
  },
  {
   "cell_type": "markdown",
   "id": "5ac144d1",
   "metadata": {},
   "source": [
    "Checking the prediction accuracy with title only, and with combination of title + content(text)"
   ]
  },
  {
   "cell_type": "markdown",
   "id": "0b6d6c92",
   "metadata": {},
   "source": [
    "Lets combine title and text column into one column and drop other columns other than label"
   ]
  },
  {
   "cell_type": "code",
   "execution_count": 62,
   "id": "835a1ec9",
   "metadata": {
    "ExecuteTime": {
     "end_time": "2024-02-06T19:24:00.358596Z",
     "start_time": "2024-02-06T19:24:00.188543Z"
    }
   },
   "outputs": [],
   "source": [
    "data['titleAndtext'] = data['title'] + \" \" + data['text']\n",
    "data = data.drop([ 'subject', 'date'], axis=1)"
   ]
  },
  {
   "cell_type": "code",
   "execution_count": 63,
   "id": "d19fca19",
   "metadata": {
    "ExecuteTime": {
     "end_time": "2024-02-06T19:24:00.699422Z",
     "start_time": "2024-02-06T19:24:00.681262Z"
    }
   },
   "outputs": [
    {
     "data": {
      "text/html": [
       "<div>\n",
       "<style scoped>\n",
       "    .dataframe tbody tr th:only-of-type {\n",
       "        vertical-align: middle;\n",
       "    }\n",
       "\n",
       "    .dataframe tbody tr th {\n",
       "        vertical-align: top;\n",
       "    }\n",
       "\n",
       "    .dataframe thead th {\n",
       "        text-align: right;\n",
       "    }\n",
       "</style>\n",
       "<table border=\"1\" class=\"dataframe\">\n",
       "  <thead>\n",
       "    <tr style=\"text-align: right;\">\n",
       "      <th></th>\n",
       "      <th>title</th>\n",
       "      <th>text</th>\n",
       "      <th>label</th>\n",
       "      <th>titleAndtext</th>\n",
       "    </tr>\n",
       "  </thead>\n",
       "  <tbody>\n",
       "    <tr>\n",
       "      <th>0</th>\n",
       "      <td>Magnitude 6.0 earthquake hits western Iran: st...</td>\n",
       "      <td>BEIRUT (Reuters) - A magnitude 6.0 earthquake ...</td>\n",
       "      <td>1</td>\n",
       "      <td>Magnitude 6.0 earthquake hits western Iran: st...</td>\n",
       "    </tr>\n",
       "    <tr>\n",
       "      <th>1</th>\n",
       "      <td>Goldman's Donovan to withdraw from deputy Trea...</td>\n",
       "      <td>(Reuters) - Goldman Sachs Group Inc banker Jam...</td>\n",
       "      <td>1</td>\n",
       "      <td>Goldman's Donovan to withdraw from deputy Trea...</td>\n",
       "    </tr>\n",
       "    <tr>\n",
       "      <th>2</th>\n",
       "      <td>Trump asks Supreme Court to block travel ban r...</td>\n",
       "      <td>WASHINGTON (Reuters) - The U.S. Justice Depart...</td>\n",
       "      <td>1</td>\n",
       "      <td>Trump asks Supreme Court to block travel ban r...</td>\n",
       "    </tr>\n",
       "    <tr>\n",
       "      <th>3</th>\n",
       "      <td>U.N. mediator de Mistura to attend Syria talks...</td>\n",
       "      <td>MOSCOW (Reuters) - U.N. special envoy on Syria...</td>\n",
       "      <td>1</td>\n",
       "      <td>U.N. mediator de Mistura to attend Syria talks...</td>\n",
       "    </tr>\n",
       "    <tr>\n",
       "      <th>4</th>\n",
       "      <td>Canada bans its agencies from sharing informat...</td>\n",
       "      <td>OTTAWA (Reuters) - Canada, which has been accu...</td>\n",
       "      <td>1</td>\n",
       "      <td>Canada bans its agencies from sharing informat...</td>\n",
       "    </tr>\n",
       "  </tbody>\n",
       "</table>\n",
       "</div>"
      ],
      "text/plain": [
       "                                               title  \\\n",
       "0  Magnitude 6.0 earthquake hits western Iran: st...   \n",
       "1  Goldman's Donovan to withdraw from deputy Trea...   \n",
       "2  Trump asks Supreme Court to block travel ban r...   \n",
       "3  U.N. mediator de Mistura to attend Syria talks...   \n",
       "4  Canada bans its agencies from sharing informat...   \n",
       "\n",
       "                                                text  label  \\\n",
       "0  BEIRUT (Reuters) - A magnitude 6.0 earthquake ...      1   \n",
       "1  (Reuters) - Goldman Sachs Group Inc banker Jam...      1   \n",
       "2  WASHINGTON (Reuters) - The U.S. Justice Depart...      1   \n",
       "3  MOSCOW (Reuters) - U.N. special envoy on Syria...      1   \n",
       "4  OTTAWA (Reuters) - Canada, which has been accu...      1   \n",
       "\n",
       "                                        titleAndtext  \n",
       "0  Magnitude 6.0 earthquake hits western Iran: st...  \n",
       "1  Goldman's Donovan to withdraw from deputy Trea...  \n",
       "2  Trump asks Supreme Court to block travel ban r...  \n",
       "3  U.N. mediator de Mistura to attend Syria talks...  \n",
       "4  Canada bans its agencies from sharing informat...  "
      ]
     },
     "execution_count": 63,
     "metadata": {},
     "output_type": "execute_result"
    }
   ],
   "source": [
    "data.head()"
   ]
  },
  {
   "cell_type": "code",
   "execution_count": 1,
   "id": "6cb7dee2",
   "metadata": {
    "ExecuteTime": {
     "end_time": "2024-02-11T17:41:46.281563Z",
     "start_time": "2024-02-11T17:41:46.278311Z"
    }
   },
   "outputs": [],
   "source": [
    "# Lets create a word cloud to analyse the most frequent words in our data.\n",
    "# from nltk.corpus import stopwords\n",
    "# from wordcloud import WordCloud\n",
    "\n",
    "# wordcloud = WordCloud(width=800,\n",
    "#                       height=800,\n",
    "#                       background_color='white',\n",
    "#                       stopwords=stopwords.words('english'),\n",
    "#                       min_font_size=10)\n",
    "\n"
   ]
  },
  {
   "cell_type": "code",
   "execution_count": null,
   "id": "de8f671c",
   "metadata": {
    "ExecuteTime": {
     "end_time": "2024-02-06T16:08:02.462210Z",
     "start_time": "2024-02-06T16:08:02.459189Z"
    }
   },
   "outputs": [],
   "source": [
    "# wordcloud = wordcloud.generate(\" \".join(data[data['label']==0].text))"
   ]
  },
  {
   "cell_type": "code",
   "execution_count": 2,
   "id": "2b97104f",
   "metadata": {
    "ExecuteTime": {
     "end_time": "2024-02-11T17:41:51.330548Z",
     "start_time": "2024-02-11T17:41:51.327945Z"
    }
   },
   "outputs": [],
   "source": [
    "# plt.figure(figsize = (8, 8), facecolor = None)\n",
    "# plt.imshow(wordcloud)\n",
    "# plt.axis('off')\n",
    "# plt.tight_layout(pad = 0)\n",
    "# plt.show()"
   ]
  },
  {
   "cell_type": "markdown",
   "id": "c80929da",
   "metadata": {},
   "source": [
    "# Text Preprocessing"
   ]
  },
  {
   "cell_type": "code",
   "execution_count": 65,
   "id": "8591f1d8",
   "metadata": {
    "ExecuteTime": {
     "end_time": "2024-02-06T19:24:08.617683Z",
     "start_time": "2024-02-06T19:24:08.604583Z"
    }
   },
   "outputs": [],
   "source": [
    "stopwords_english = stopwords.words('english')\n",
    "\n",
    "\n",
    "def text_clean(text):\n",
    "    text = text.lower()\n",
    "    text = re.sub('\\[.*?\\]', '', text)\n",
    "    text = re.sub(\"\\\\W\", \" \", text)\n",
    "    text = re.sub('https?://\\S+|www\\.\\S+', '', text)\n",
    "    text = re.sub('<.*?>+', '', text)\n",
    "    text = re.sub('[%s]' % re.escape(string.punctuation), '', text)\n",
    "    text = re.sub('\\n', '', text)\n",
    "    text = re.sub('\\w*\\d\\w*', '', text)\n",
    "    text = ' '.join([\n",
    "        word for word in text.split()\n",
    "        if (word not in stopwords_english) and (word not in string.punctuation)\n",
    "    ])\n",
    "\n",
    "    return text\n",
    "\n"
   ]
  },
  {
   "cell_type": "code",
   "execution_count": 141,
   "id": "bb9bf15d",
   "metadata": {
    "ExecuteTime": {
     "end_time": "2024-02-06T19:24:09.181042Z",
     "start_time": "2024-02-06T19:24:09.177020Z"
    }
   },
   "outputs": [],
   "source": [
    "# Checking accuracy of prediction only with Title "
   ]
  },
  {
   "cell_type": "code",
   "execution_count": 142,
   "id": "80d6ec8c",
   "metadata": {
    "ExecuteTime": {
     "end_time": "2024-02-06T19:24:13.557931Z",
     "start_time": "2024-02-06T19:24:11.711774Z"
    }
   },
   "outputs": [],
   "source": [
    "# Splitting the data into train and text\n",
    "X = data[\"title\"].apply(text_clean)\n",
    "y = data[\"label\"]\n",
    "\n",
    "X_train, X_test, y_train, y_test = train_test_split(X, y, test_size=0.25)"
   ]
  },
  {
   "cell_type": "code",
   "execution_count": 143,
   "id": "2bbe2b97",
   "metadata": {
    "ExecuteTime": {
     "end_time": "2024-02-06T19:24:13.561865Z",
     "start_time": "2024-02-06T19:24:13.559268Z"
    }
   },
   "outputs": [],
   "source": [
    "classifiers = [\n",
    "    \n",
    "    ('MultinomialNB', MultinomialNB()),\n",
    "    ('RandomForestClassifier', RandomForestClassifier(random_state=0)),\n",
    "    ('LogisticRegression', LogisticRegression()),\n",
    "    ('DecisionTreeClassifier',DecisionTreeClassifier(random_state=0)),\n",
    "    ('GradientBoostingClassifier', GradientBoostingClassifier(random_state=0)),\n",
    "    ('LinearSVC',LinearSVC()),\n",
    "    ('PassiveAggressiveClassifier',PassiveAggressiveClassifier())\n",
    "]"
   ]
  },
  {
   "cell_type": "code",
   "execution_count": 78,
   "id": "411b6c7a",
   "metadata": {
    "ExecuteTime": {
     "end_time": "2024-02-06T19:24:13.566485Z",
     "start_time": "2024-02-06T19:24:13.562684Z"
    }
   },
   "outputs": [],
   "source": [
    "#  Define the classifiers\n",
    "def get_prediction(X_train,y_train, X_test, y_test ):\n",
    "    \n",
    "    output = {}\n",
    "\n",
    "    # Define the pipeline and evaluate each classifier\n",
    "    for clf_name, clf in classifiers:\n",
    "        pipe = Pipeline([\n",
    "            ('vect', CountVectorizer()),\n",
    "            ('tfidf', TfidfTransformer()),\n",
    "            ('clf', clf)\n",
    "        ])\n",
    "\n",
    "        # Train the classifier\n",
    "        pipe.fit(X_train, y_train)\n",
    "\n",
    "        # Make predictions\n",
    "        y_pred = pipe.predict(X_test)\n",
    "\n",
    "        # Calculate accuracy\n",
    "        accuracy = accuracy_score(y_test, y_pred)\n",
    "\n",
    "        # Print the results\n",
    "        output[clf_name] = accuracy\n",
    "        \n",
    "    output_df = pd.DataFrame(output.items(), columns=['clf_name','accuracy']).sort_values('accuracy', ascending=False)\n",
    "    return output_df\n",
    "\n",
    "def plot_confusion_matrix_report(y_test, prediction):\n",
    "    \n",
    "    # printing classification report\n",
    "    print(classification_report(y_pred, y_test))\n",
    "    \n",
    "    # plotting confusion metrix\n",
    "    cm = metrics.confusion_matrix(y_test, prediction, labels=[0,1])\n",
    "    \n",
    "    fig, ax = plot_confusion_matrix(conf_mat=confusion_matrix(y_test, prediction),\n",
    "                                    show_absolute=True,\n",
    "                                    show_normed=True,\n",
    "                                    colorbar=True)\n",
    "    plt.show()\n",
    "    return None"
   ]
  },
  {
   "cell_type": "code",
   "execution_count": 145,
   "id": "1f1f32aa",
   "metadata": {
    "ExecuteTime": {
     "end_time": "2024-02-06T19:24:45.783428Z",
     "start_time": "2024-02-06T19:24:13.567797Z"
    }
   },
   "outputs": [
    {
     "data": {
      "text/html": [
       "<div>\n",
       "<style scoped>\n",
       "    .dataframe tbody tr th:only-of-type {\n",
       "        vertical-align: middle;\n",
       "    }\n",
       "\n",
       "    .dataframe tbody tr th {\n",
       "        vertical-align: top;\n",
       "    }\n",
       "\n",
       "    .dataframe thead th {\n",
       "        text-align: right;\n",
       "    }\n",
       "</style>\n",
       "<table border=\"1\" class=\"dataframe\">\n",
       "  <thead>\n",
       "    <tr style=\"text-align: right;\">\n",
       "      <th></th>\n",
       "      <th>clf_name</th>\n",
       "      <th>accuracy</th>\n",
       "    </tr>\n",
       "  </thead>\n",
       "  <tbody>\n",
       "    <tr>\n",
       "      <th>5</th>\n",
       "      <td>LinearSVC</td>\n",
       "      <td>0.946993</td>\n",
       "    </tr>\n",
       "    <tr>\n",
       "      <th>2</th>\n",
       "      <td>LogisticRegression</td>\n",
       "      <td>0.942094</td>\n",
       "    </tr>\n",
       "    <tr>\n",
       "      <th>1</th>\n",
       "      <td>RandomForestClassifier</td>\n",
       "      <td>0.934165</td>\n",
       "    </tr>\n",
       "    <tr>\n",
       "      <th>6</th>\n",
       "      <td>PassiveAggressiveClassifier</td>\n",
       "      <td>0.934076</td>\n",
       "    </tr>\n",
       "    <tr>\n",
       "      <th>0</th>\n",
       "      <td>MultinomialNB</td>\n",
       "      <td>0.930958</td>\n",
       "    </tr>\n",
       "    <tr>\n",
       "      <th>3</th>\n",
       "      <td>DecisionTreeClassifier</td>\n",
       "      <td>0.895947</td>\n",
       "    </tr>\n",
       "    <tr>\n",
       "      <th>4</th>\n",
       "      <td>GradientBoostingClassifier</td>\n",
       "      <td>0.818619</td>\n",
       "    </tr>\n",
       "  </tbody>\n",
       "</table>\n",
       "</div>"
      ],
      "text/plain": [
       "                      clf_name  accuracy\n",
       "5                    LinearSVC  0.946993\n",
       "2           LogisticRegression  0.942094\n",
       "1       RandomForestClassifier  0.934165\n",
       "6  PassiveAggressiveClassifier  0.934076\n",
       "0                MultinomialNB  0.930958\n",
       "3       DecisionTreeClassifier  0.895947\n",
       "4   GradientBoostingClassifier  0.818619"
      ]
     },
     "execution_count": 145,
     "metadata": {},
     "output_type": "execute_result"
    }
   ],
   "source": [
    "output_df = get_prediction(X_train,y_train, X_test, y_test )\n",
    "output_df"
   ]
  },
  {
   "cell_type": "markdown",
   "id": "82d590b6",
   "metadata": {},
   "source": [
    "**Observations** Damn! 94.93% accurate prediction is quite a good result (Didn't expect it though :P). "
   ]
  },
  {
   "cell_type": "code",
   "execution_count": 146,
   "id": "9e6dcce9",
   "metadata": {
    "ExecuteTime": {
     "end_time": "2024-02-06T19:24:46.250380Z",
     "start_time": "2024-02-06T19:24:45.785217Z"
    }
   },
   "outputs": [
    {
     "name": "stdout",
     "output_type": "stream",
     "text": [
      "              precision    recall  f1-score   support\n",
      "\n",
      "           0       0.95      0.95      0.95      5949\n",
      "           1       0.94      0.94      0.94      5276\n",
      "\n",
      "    accuracy                           0.95     11225\n",
      "   macro avg       0.95      0.95      0.95     11225\n",
      "weighted avg       0.95      0.95      0.95     11225\n",
      "\n"
     ]
    },
    {
     "data": {
      "image/png": "[encoded data removed]",
      "text/plain": [
       "<Figure size 432x288 with 2 Axes>"
      ]
     },
     "metadata": {},
     "output_type": "display_data"
    }
   ],
   "source": [
    "# Lets plot classification report or confusion metrics for highest accuracy classifier\n",
    "\n",
    "pipe = Pipeline([\n",
    "            ('vect', CountVectorizer()),\n",
    "            ('tfidf', TfidfTransformer()),\n",
    "            ('LinearSVC', LinearSVC())\n",
    "        ])\n",
    "\n",
    "pipe.fit(X_train, y_train)\n",
    "y_pred = pipe.predict(X_test)\n",
    "plot_confusion_matrix_report(y_test,y_pred)"
   ]
  },
  {
   "cell_type": "code",
   "execution_count": 147,
   "id": "f57c55a6",
   "metadata": {
    "ExecuteTime": {
     "end_time": "2024-02-06T19:24:46.252840Z",
     "start_time": "2024-02-06T19:24:46.251359Z"
    }
   },
   "outputs": [],
   "source": [
    "# Checking accuracy of prediction with Title + Text"
   ]
  },
  {
   "cell_type": "code",
   "execution_count": 70,
   "id": "2c28db0f",
   "metadata": {
    "ExecuteTime": {
     "end_time": "2024-02-06T19:25:32.294247Z",
     "start_time": "2024-02-06T19:24:46.254414Z"
    }
   },
   "outputs": [],
   "source": [
    "# Splitting the data into train and text\n",
    "X = data[\"titleAndtext\"].apply(text_clean)\n",
    "y = data[\"label\"]\n",
    "\n",
    "X_train, X_test, y_train, y_test = train_test_split(X, y, test_size=0.25)"
   ]
  },
  {
   "cell_type": "code",
   "execution_count": 149,
   "id": "2bfc833d",
   "metadata": {
    "ExecuteTime": {
     "end_time": "2024-02-06T19:29:13.978609Z",
     "start_time": "2024-02-06T19:25:32.295475Z"
    }
   },
   "outputs": [
    {
     "data": {
      "text/html": [
       "<div>\n",
       "<style scoped>\n",
       "    .dataframe tbody tr th:only-of-type {\n",
       "        vertical-align: middle;\n",
       "    }\n",
       "\n",
       "    .dataframe tbody tr th {\n",
       "        vertical-align: top;\n",
       "    }\n",
       "\n",
       "    .dataframe thead th {\n",
       "        text-align: right;\n",
       "    }\n",
       "</style>\n",
       "<table border=\"1\" class=\"dataframe\">\n",
       "  <thead>\n",
       "    <tr style=\"text-align: right;\">\n",
       "      <th></th>\n",
       "      <th>clf_name</th>\n",
       "      <th>accuracy</th>\n",
       "    </tr>\n",
       "  </thead>\n",
       "  <tbody>\n",
       "    <tr>\n",
       "      <th>3</th>\n",
       "      <td>DecisionTreeClassifier</td>\n",
       "      <td>0.997506</td>\n",
       "    </tr>\n",
       "    <tr>\n",
       "      <th>4</th>\n",
       "      <td>GradientBoostingClassifier</td>\n",
       "      <td>0.996526</td>\n",
       "    </tr>\n",
       "    <tr>\n",
       "      <th>6</th>\n",
       "      <td>PassiveAggressiveClassifier</td>\n",
       "      <td>0.995546</td>\n",
       "    </tr>\n",
       "    <tr>\n",
       "      <th>5</th>\n",
       "      <td>LinearSVC</td>\n",
       "      <td>0.995457</td>\n",
       "    </tr>\n",
       "    <tr>\n",
       "      <th>1</th>\n",
       "      <td>RandomForestClassifier</td>\n",
       "      <td>0.994120</td>\n",
       "    </tr>\n",
       "    <tr>\n",
       "      <th>2</th>\n",
       "      <td>LogisticRegression</td>\n",
       "      <td>0.986637</td>\n",
       "    </tr>\n",
       "    <tr>\n",
       "      <th>0</th>\n",
       "      <td>MultinomialNB</td>\n",
       "      <td>0.937194</td>\n",
       "    </tr>\n",
       "  </tbody>\n",
       "</table>\n",
       "</div>"
      ],
      "text/plain": [
       "                      clf_name  accuracy\n",
       "3       DecisionTreeClassifier  0.997506\n",
       "4   GradientBoostingClassifier  0.996526\n",
       "6  PassiveAggressiveClassifier  0.995546\n",
       "5                    LinearSVC  0.995457\n",
       "1       RandomForestClassifier  0.994120\n",
       "2           LogisticRegression  0.986637\n",
       "0                MultinomialNB  0.937194"
      ]
     },
     "execution_count": 149,
     "metadata": {},
     "output_type": "execute_result"
    }
   ],
   "source": [
    "output_df = get_prediction(X_train,y_train, X_test, y_test )\n",
    "output_df"
   ]
  },
  {
   "cell_type": "code",
   "execution_count": 150,
   "id": "349cd77b",
   "metadata": {
    "ExecuteTime": {
     "end_time": "2024-02-06T19:29:20.078563Z",
     "start_time": "2024-02-06T19:29:13.980397Z"
    }
   },
   "outputs": [
    {
     "name": "stdout",
     "output_type": "stream",
     "text": [
      "              precision    recall  f1-score   support\n",
      "\n",
      "           0       1.00      1.00      1.00      5914\n",
      "           1       0.99      1.00      1.00      5311\n",
      "\n",
      "    accuracy                           1.00     11225\n",
      "   macro avg       1.00      1.00      1.00     11225\n",
      "weighted avg       1.00      1.00      1.00     11225\n",
      "\n"
     ]
    },
    {
     "data": {
      "image/png": "[encoded data removed]",
      "text/plain": [
       "<Figure size 432x288 with 2 Axes>"
      ]
     },
     "metadata": {},
     "output_type": "display_data"
    }
   ],
   "source": [
    "# Lets plot classification report or confusion metrics for highest accuracy classifier\n",
    "\n",
    "pipe = Pipeline([\n",
    "            ('vect', CountVectorizer()),\n",
    "            ('tfidf', TfidfTransformer()),\n",
    "            ('LinearSVC', LinearSVC())\n",
    "        ])\n",
    "\n",
    "pipe.fit(X_train, y_train)\n",
    "y_pred = pipe.predict(X_test)\n",
    "plot_confusion_matrix_report(y_test,y_pred)\n"
   ]
  },
  {
   "cell_type": "markdown",
   "id": "b0e065a6",
   "metadata": {
    "ExecuteTime": {
     "end_time": "2024-02-06T16:24:18.693367Z",
     "start_time": "2024-02-06T16:24:18.689150Z"
    }
   },
   "source": [
    "### Using word embeddings"
   ]
  },
  {
   "cell_type": "code",
   "execution_count": 66,
   "id": "19e412dd",
   "metadata": {
    "ExecuteTime": {
     "end_time": "2024-02-06T19:48:47.470744Z",
     "start_time": "2024-02-06T19:48:46.227205Z"
    }
   },
   "outputs": [],
   "source": [
    "from gensim.models import Word2Vec, KeyedVectors"
   ]
  },
  {
   "cell_type": "code",
   "execution_count": 67,
   "id": "1c992c9f",
   "metadata": {
    "ExecuteTime": {
     "end_time": "2024-02-06T19:49:09.016140Z",
     "start_time": "2024-02-06T19:48:48.426191Z"
    }
   },
   "outputs": [],
   "source": [
    "word2vec_embeddings = KeyedVectors.load_word2vec_format('./NLP Projects/GoogleNews-vectors-negative300.bin', binary = True)\n"
   ]
  },
  {
   "cell_type": "code",
   "execution_count": 68,
   "id": "d04511ff",
   "metadata": {
    "ExecuteTime": {
     "end_time": "2024-02-06T20:14:18.895130Z",
     "start_time": "2024-02-06T20:14:18.879104Z"
    }
   },
   "outputs": [],
   "source": [
    "# this function creates a normalized vector for the whole sentence\n",
    "def sent2vec(s, embeddings):\n",
    "#     words = str(s).lower().decode('utf-8')\n",
    "    words = set(nltk.word_tokenize(s))\n",
    "    words = [w for w in words if not w in stopwords_english]\n",
    "    words = [w for w in words if w.isalpha()]\n",
    "    M = []\n",
    "    for w in words:\n",
    "        try:\n",
    "            M.append(embeddings[w])\n",
    "        except:\n",
    "            continue\n",
    "    M = np.array(M)\n",
    "    v = M.sum(axis=0)\n",
    "    if type(v) != np.ndarray:\n",
    "        return np.zeros(300)\n",
    "    return v / np.sqrt((v ** 2).sum())"
   ]
  },
  {
   "cell_type": "code",
   "execution_count": 72,
   "id": "885371fc",
   "metadata": {
    "ExecuteTime": {
     "end_time": "2024-02-06T19:53:51.120122Z",
     "start_time": "2024-02-06T19:53:51.065131Z"
    }
   },
   "outputs": [
    {
     "data": {
      "text/plain": [
       "array([ 8.29986471e-04,  2.21653990e-02,  4.32379469e-02,  4.50510867e-02,\n",
       "       -4.11034748e-03, -7.94541277e-03, -2.14927178e-02, -1.59460887e-01,\n",
       "        9.37015414e-02,  1.06352106e-01, -1.86343342e-02, -1.50333107e-01,\n",
       "        3.35109606e-02,  1.37035735e-02, -1.30267516e-02,  2.14326922e-02,\n",
       "       -9.37367231e-02,  6.93023205e-02,  2.03501917e-02, -8.17567706e-02,\n",
       "       -2.74930429e-02, -8.21293332e-03, -9.16503742e-03, -1.71616785e-02,\n",
       "        4.97588255e-02, -8.37955177e-02, -2.83457972e-02,  2.88104657e-02,\n",
       "        2.70625260e-02, -1.16338849e-01,  1.36026712e-02, -3.25239301e-02,\n",
       "       -8.25125724e-02, -2.76662596e-02, -1.99238155e-02, -4.22641113e-02,\n",
       "       -3.63773666e-02,  1.42650045e-02,  1.02615096e-02,  1.71542272e-01,\n",
       "        1.17150205e-03, -6.02392182e-02,  1.22188598e-01,  1.15086883e-02,\n",
       "        3.53132337e-02,  1.43374475e-02, -3.90380807e-02,  3.44827306e-03,\n",
       "       -7.19889104e-02,  3.76829505e-02,  5.56980930e-02,  4.63053808e-02,\n",
       "        4.60611433e-02,  2.59723924e-02, -3.94393615e-02,  9.81081277e-03,\n",
       "       -9.35486332e-02,  3.28766368e-02,  2.94836015e-02, -1.11861892e-01,\n",
       "       -6.39607012e-02,  4.29349840e-02, -5.20925187e-02, -1.25597030e-01,\n",
       "       -1.24808436e-03, -2.30843872e-02,  4.22527269e-02,  2.07931269e-02,\n",
       "        4.70722374e-03,  3.36047485e-02, -7.94841424e-02,  1.20596411e-02,\n",
       "        7.15433881e-02,  5.34647889e-02, -1.01177625e-01, -1.15416758e-02,\n",
       "        1.95843689e-02, -1.90565716e-02, -8.85198172e-03, -1.79657917e-02,\n",
       "        1.11385845e-02, -2.97118593e-02,  9.16943606e-03,  8.22121277e-03,\n",
       "       -1.73940118e-02, -7.16810226e-02, -9.35711414e-02,  2.19024718e-02,\n",
       "       -3.30090374e-02,  8.75107944e-03,  2.73649096e-02, -1.28554758e-02,\n",
       "       -7.48447031e-02, -3.89948748e-02, -1.05142504e-01,  2.04267744e-02,\n",
       "        9.87932310e-02,  3.30649223e-03,  7.64632784e-03,  3.09433858e-03,\n",
       "       -2.51997146e-04, -5.17447916e-06, -1.10940831e-02,  7.13270903e-02,\n",
       "        1.26644343e-01, -1.97934173e-02, -6.68490976e-02, -4.47256118e-02,\n",
       "        3.50984931e-02, -1.15105256e-01, -5.90863451e-02, -4.25218008e-02,\n",
       "        6.70881569e-02, -1.02202177e-01, -1.32363173e-03, -3.03027853e-02,\n",
       "        3.08264419e-02,  3.13345753e-02,  7.71426857e-02,  3.67915817e-02,\n",
       "       -7.99299255e-02,  5.69622181e-02, -1.24981396e-01,  9.54867378e-02,\n",
       "        3.76329534e-02,  1.24933925e-02,  1.08105224e-02, -9.02486071e-02,\n",
       "        4.39727260e-03,  1.03489583e-05, -3.79527360e-02, -6.62695542e-02,\n",
       "        1.04114404e-02,  1.05424840e-02, -5.78910373e-02, -4.56968620e-02,\n",
       "        3.56583707e-02, -8.03431049e-02, -2.71753296e-02,  6.87134638e-02,\n",
       "        4.35701497e-02, -9.98886675e-02,  5.31584583e-02,  3.01630739e-02,\n",
       "        5.10855652e-02,  1.61664970e-02, -3.64593789e-02, -3.60702612e-02,\n",
       "       -1.06006451e-01, -1.17833242e-01,  6.66576400e-02, -5.67040145e-02,\n",
       "       -5.72623387e-02,  1.78333260e-02,  2.66946200e-02, -8.14248323e-02,\n",
       "       -3.42209004e-02, -3.89120840e-02,  3.21542136e-02, -3.12931798e-02,\n",
       "        3.23611940e-03,  8.76246300e-03,  6.30841479e-02, -2.59386301e-02,\n",
       "       -4.65289177e-03,  1.20161753e-02,  1.52208343e-01, -5.63319698e-02,\n",
       "        3.53603214e-02, -3.95537214e-03, -9.02511999e-02,  1.58031192e-02,\n",
       "       -5.17512597e-02, -8.82766172e-02,  1.12203406e-02, -9.82882008e-02,\n",
       "        8.77995268e-02, -9.34096985e-03, -8.49287305e-03,  9.13813058e-03,\n",
       "       -9.00938958e-02, -5.32350410e-03, -7.83498958e-02, -6.72589168e-02,\n",
       "        4.78308164e-02,  2.18880479e-03, -3.10427360e-02,  2.80850027e-02,\n",
       "        6.75103962e-02,  5.58746718e-02,  1.76346246e-02,  5.68447597e-02,\n",
       "       -1.85929388e-02,  7.46263377e-03, -1.03464231e-01,  1.18635550e-01,\n",
       "        2.52493881e-02,  2.85993461e-02, -4.21875296e-03, -6.86539561e-02,\n",
       "       -5.36685670e-03,  2.41192821e-02,  2.35356018e-02, -8.93089250e-02,\n",
       "        5.23181260e-02, -1.05008811e-01,  5.14084511e-02, -2.32644589e-03,\n",
       "        5.93202300e-02, -1.92687251e-02, -1.14138667e-02,  4.23784666e-02,\n",
       "       -3.20507251e-02,  3.89598198e-02, -1.03855938e-01,  1.58339069e-04,\n",
       "        7.09938526e-04,  2.13022958e-02, -9.44984108e-02, -1.32684000e-02,\n",
       "        6.15814775e-02,  4.67622876e-02, -2.51189917e-02, -5.06312437e-02,\n",
       "        2.87292264e-02, -9.85945240e-02, -4.18408401e-03,  1.26731277e-01,\n",
       "        6.14671223e-02, -1.17460676e-02,  4.37336639e-02,  3.08533497e-02,\n",
       "        1.06009552e-02,  4.07707579e-02, -2.93765534e-02,  5.63301556e-02,\n",
       "        2.62594465e-02, -1.06037371e-01,  5.96348383e-02, -5.17033972e-03,\n",
       "        4.09539342e-02,  4.70008291e-02,  1.53951105e-02, -1.33557960e-01,\n",
       "       -1.30867753e-02,  3.84101598e-03,  4.70525734e-02,  4.82427031e-02,\n",
       "       -3.50208743e-03, -1.05460025e-01,  1.79643687e-02,  2.49637570e-02,\n",
       "        7.37144649e-02,  2.42802091e-02,  6.44987822e-02, -4.50789630e-02,\n",
       "        3.68350483e-02,  4.12219726e-02, -1.38572557e-03, -7.89102912e-02,\n",
       "       -5.19574620e-02, -7.56325200e-02,  3.87170054e-02,  8.25857222e-02,\n",
       "       -7.87840318e-03,  1.36875331e-01,  1.01337004e-02,  9.17538628e-03,\n",
       "        2.28298013e-03, -4.07593735e-02, -6.73054829e-02,  4.22237488e-03,\n",
       "        7.96352339e-04, -7.75131807e-02,  3.18080895e-02, -4.08664830e-02,\n",
       "       -5.83298355e-02,  5.92374383e-03, -2.01866776e-02,  1.71019118e-02,\n",
       "       -9.19649825e-02,  5.58140017e-02,  5.03422506e-02,  1.10817410e-01,\n",
       "        4.65164967e-02, -6.42931610e-02, -6.89406246e-02,  5.74988127e-03,\n",
       "        7.67717138e-02,  8.73193368e-02, -3.73328328e-02, -5.04118465e-02,\n",
       "       -6.59724772e-02,  6.57081231e-02,  2.69895662e-02, -1.05766356e-02,\n",
       "       -1.70542553e-01, -1.46329096e-02,  2.24634483e-02, -7.99353514e-03],\n",
       "      dtype=float32)"
      ]
     },
     "execution_count": 72,
     "metadata": {},
     "output_type": "execute_result"
    }
   ],
   "source": [
    "sent2vec(X_train[0], word2vec_embeddings)"
   ]
  },
  {
   "cell_type": "code",
   "execution_count": 73,
   "id": "aed1bce5",
   "metadata": {
    "ExecuteTime": {
     "end_time": "2024-02-06T19:55:42.072579Z",
     "start_time": "2024-02-06T19:55:42.050893Z"
    }
   },
   "outputs": [],
   "source": [
    "from tqdm import tqdm"
   ]
  },
  {
   "cell_type": "code",
   "execution_count": 74,
   "id": "f550bfbb",
   "metadata": {
    "ExecuteTime": {
     "end_time": "2024-02-06T19:56:51.202896Z",
     "start_time": "2024-02-06T19:55:55.382675Z"
    }
   },
   "outputs": [
    {
     "name": "stderr",
     "output_type": "stream",
     "text": [
      "100%|█████████████████████████████████████████████████████| 33673/33673 [00:28<00:00, 1182.80it/s]\n",
      "100%|█████████████████████████████████████████████████████| 11225/11225 [00:09<00:00, 1177.47it/s]\n"
     ]
    }
   ],
   "source": [
    "X_train_word2vec = [sent2vec(x,word2vec_embeddings) for x in tqdm(X_train.values)]\n",
    "X_test_word2vec = [sent2vec(x,word2vec_embeddings) for x in tqdm(X_test.values)]"
   ]
  },
  {
   "cell_type": "code",
   "execution_count": 75,
   "id": "a03eebae",
   "metadata": {
    "ExecuteTime": {
     "end_time": "2024-02-06T19:57:23.625134Z",
     "start_time": "2024-02-06T19:57:23.504307Z"
    }
   },
   "outputs": [],
   "source": [
    "X_train_word2vec = np.array(X_train_word2vec)\n",
    "X_test_word2vec = np.array(X_test_word2vec)"
   ]
  },
  {
   "cell_type": "code",
   "execution_count": 76,
   "id": "3c95b377",
   "metadata": {
    "ExecuteTime": {
     "end_time": "2024-02-06T19:59:20.278546Z",
     "start_time": "2024-02-06T19:59:20.267889Z"
    }
   },
   "outputs": [],
   "source": [
    "y_train_word2vec = np.array(y_train)\n",
    "y_test_word2vec = np.array(y_test)"
   ]
  },
  {
   "cell_type": "code",
   "execution_count": 79,
   "id": "8ded620c",
   "metadata": {
    "ExecuteTime": {
     "end_time": "2024-02-06T20:00:30.519002Z",
     "start_time": "2024-02-06T20:00:29.928528Z"
    }
   },
   "outputs": [
    {
     "name": "stdout",
     "output_type": "stream",
     "text": [
      "              precision    recall  f1-score   support\n",
      "\n",
      "           0       0.96      0.96      0.96      5755\n",
      "           1       0.96      0.95      0.96      5470\n",
      "\n",
      "    accuracy                           0.96     11225\n",
      "   macro avg       0.96      0.96      0.96     11225\n",
      "weighted avg       0.96      0.96      0.96     11225\n",
      "\n"
     ]
    },
    {
     "data": {
      "image/png": "[encoded data removed]",
      "text/plain": [
       "<Figure size 640x480 with 2 Axes>"
      ]
     },
     "metadata": {},
     "output_type": "display_data"
    }
   ],
   "source": [
    "# Fitting a simple Logistic Regression on Word2Vec features\n",
    "\n",
    "LR = LogisticRegression()\n",
    "LR.fit(X_train_word2vec, y_train_word2vec)\n",
    "y_pred = LR.predict(X_test_word2vec)\n",
    "plot_confusion_matrix_report(y_test_word2vec,y_pred)\n",
    "\n",
    "# clf = xgb.XGBClassifier(nthread=10, silent=False)\n",
    "# clf.fit(xtrain_glove, ytrain)\n",
    "# predictions = clf.predict_proba(xvalid_glove)"
   ]
  },
  {
   "cell_type": "code",
   "execution_count": 80,
   "id": "9e2d61a4",
   "metadata": {
    "ExecuteTime": {
     "end_time": "2024-02-06T20:18:55.362302Z",
     "start_time": "2024-02-06T20:18:55.349527Z"
    }
   },
   "outputs": [],
   "source": [
    "def load_glove_model(File):\n",
    "    print(\"Loading Glove Model\")\n",
    "    glove_embeddings = {}\n",
    "    with open(File,'r') as f:\n",
    "        for line in f:\n",
    "            split_line = line.split()\n",
    "            word = split_line[0]\n",
    "            try:\n",
    "                embedding = np.array(split_line[1:], dtype=np.float64)\n",
    "                glove_embeddings[word] = embedding\n",
    "            except:\n",
    "                pass\n",
    "            \n",
    "    print(f\"{len(glove_embeddings)} words loaded!\")\n",
    "    return glove_embeddings"
   ]
  },
  {
   "cell_type": "code",
   "execution_count": 81,
   "id": "1a63de43",
   "metadata": {
    "ExecuteTime": {
     "end_time": "2024-02-06T20:20:34.232106Z",
     "start_time": "2024-02-06T20:18:56.380778Z"
    }
   },
   "outputs": [
    {
     "name": "stdout",
     "output_type": "stream",
     "text": [
      "Loading Glove Model\n",
      "2195884 words loaded!\n"
     ]
    }
   ],
   "source": [
    "glove_embeddings = load_glove_model('./NLP Projects/glove.840B.300d.txt')"
   ]
  },
  {
   "cell_type": "code",
   "execution_count": 82,
   "id": "8495b1ea",
   "metadata": {
    "ExecuteTime": {
     "end_time": "2024-02-06T20:21:35.829998Z",
     "start_time": "2024-02-06T20:20:41.923905Z"
    }
   },
   "outputs": [
    {
     "name": "stderr",
     "output_type": "stream",
     "text": [
      "100%|█████████████████████████████████████████████████████| 33673/33673 [00:27<00:00, 1204.57it/s]\n",
      "100%|█████████████████████████████████████████████████████| 11225/11225 [00:09<00:00, 1206.58it/s]\n"
     ]
    }
   ],
   "source": [
    "X_train_glove = [sent2vec(x,glove_embeddings) for x in tqdm(X_train.values)]\n",
    "X_test_glove = [sent2vec(x,glove_embeddings) for x in tqdm(X_test.values)]"
   ]
  },
  {
   "cell_type": "code",
   "execution_count": 83,
   "id": "c046a4f9",
   "metadata": {
    "ExecuteTime": {
     "end_time": "2024-02-06T20:21:43.332511Z",
     "start_time": "2024-02-06T20:21:43.035994Z"
    }
   },
   "outputs": [],
   "source": [
    "X_train_glove = np.array(X_train_glove)\n",
    "X_test_glove = np.array(X_test_glove)"
   ]
  },
  {
   "cell_type": "code",
   "execution_count": 102,
   "id": "99dd4994",
   "metadata": {},
   "outputs": [
    {
     "data": {
      "text/plain": [
       "(33673,)"
      ]
     },
     "execution_count": 102,
     "metadata": {},
     "output_type": "execute_result"
    }
   ],
   "source": [
    "y_train_glove.shape"
   ]
  },
  {
   "cell_type": "code",
   "execution_count": 84,
   "id": "a75f704e",
   "metadata": {
    "ExecuteTime": {
     "end_time": "2024-02-06T20:21:44.674070Z",
     "start_time": "2024-02-06T20:21:44.660701Z"
    }
   },
   "outputs": [],
   "source": [
    "y_train_glove = np.array(y_train)\n",
    "y_test_glove = np.array(y_test)"
   ]
  },
  {
   "cell_type": "code",
   "execution_count": 85,
   "id": "ef2329cd",
   "metadata": {
    "ExecuteTime": {
     "end_time": "2024-02-06T20:22:10.714422Z",
     "start_time": "2024-02-06T20:22:10.055712Z"
    }
   },
   "outputs": [
    {
     "name": "stdout",
     "output_type": "stream",
     "text": [
      "              precision    recall  f1-score   support\n",
      "\n",
      "           0       0.94      0.95      0.94      5781\n",
      "           1       0.94      0.94      0.94      5444\n",
      "\n",
      "    accuracy                           0.94     11225\n",
      "   macro avg       0.94      0.94      0.94     11225\n",
      "weighted avg       0.94      0.94      0.94     11225\n",
      "\n"
     ]
    },
    {
     "data": {
      "image/png": "[encoded data removed]",
      "text/plain": [
       "<Figure size 640x480 with 2 Axes>"
      ]
     },
     "metadata": {},
     "output_type": "display_data"
    }
   ],
   "source": [
    "# Fitting a simple Logistic Regression on Word2Vec features\n",
    "\n",
    "LR = LogisticRegression()\n",
    "LR.fit(X_train_glove, y_train_glove)\n",
    "y_pred = LR.predict(X_test_glove)\n",
    "plot_confusion_matrix_report(y_test_glove,y_pred)\n",
    "\n",
    "# clf = xgb.XGBClassifier(nthread=10, silent=False)\n",
    "# clf.fit(xtrain_glove, ytrain)\n",
    "# predictions = clf.predict_proba(xvalid_glove)"
   ]
  },
  {
   "cell_type": "markdown",
   "id": "2dbff1f8",
   "metadata": {},
   "source": [
    "## Deep Learning"
   ]
  },
  {
   "cell_type": "code",
   "execution_count": 25,
   "id": "3ddff83c",
   "metadata": {},
   "outputs": [],
   "source": [
    "from keras.models import Sequential\n",
    "from keras.layers import LSTM, GRU\n",
    "from keras.layers import Dense, Activation, Dropout\n",
    "from keras.layers import Embedding\n",
    "from keras.layers import BatchNormalization\n",
    "from keras.utils import to_categorical"
   ]
  },
  {
   "cell_type": "code",
   "execution_count": 120,
   "id": "ae3505bb",
   "metadata": {},
   "outputs": [],
   "source": [
    "from keras.preprocessing import sequence, text"
   ]
  },
  {
   "cell_type": "code",
   "execution_count": 86,
   "id": "f68b075a",
   "metadata": {
    "ExecuteTime": {
     "end_time": "2024-02-06T20:27:42.681529Z",
     "start_time": "2024-02-06T20:27:42.493241Z"
    }
   },
   "outputs": [],
   "source": [
    "# scale the data before any neural net:\n",
    "from sklearn import preprocessing\n",
    "scl = preprocessing.StandardScaler()\n",
    "X_train_glove_scl = scl.fit_transform(X_train_glove)\n",
    "X_test_glove_scl = scl.transform(X_test_glove)"
   ]
  },
  {
   "cell_type": "code",
   "execution_count": 104,
   "id": "c00e0572",
   "metadata": {},
   "outputs": [
    {
     "data": {
      "text/plain": [
       "array([0., 1.], dtype=float32)"
      ]
     },
     "execution_count": 104,
     "metadata": {},
     "output_type": "execute_result"
    }
   ],
   "source": [
    "y_train_glove_enc[0]"
   ]
  },
  {
   "cell_type": "code",
   "execution_count": 139,
   "id": "153dfb9f",
   "metadata": {
    "ExecuteTime": {
     "end_time": "2024-02-06T20:28:17.859015Z",
     "start_time": "2024-02-06T20:28:17.816820Z"
    }
   },
   "outputs": [],
   "source": [
    "# we need to binarize the labels for the neural net\n",
    "y_train_glove_enc = to_categorical(y_train_glove,2)\n",
    "y_test_glove_enc = to_categorical(y_test_glove,2)"
   ]
  },
  {
   "cell_type": "code",
   "execution_count": 140,
   "id": "768cbcc6",
   "metadata": {},
   "outputs": [],
   "source": [
    "# create a simple 3 layer sequential neural net\n",
    "model = Sequential()\n",
    "\n",
    "model.add(Dense(300, input_dim=300, activation='relu'))\n",
    "model.add(Dropout(0.2))\n",
    "model.add(BatchNormalization())\n",
    "\n",
    "model.add(Dense(300, activation='relu'))\n",
    "model.add(Dropout(0.3))\n",
    "model.add(BatchNormalization())\n",
    "\n",
    "model.add(Dense(2))\n",
    "model.add(Activation('softmax'))\n",
    "\n",
    "# compile the model\n",
    "model.compile(loss='categorical_crossentropy', optimizer='adam')"
   ]
  },
  {
   "cell_type": "code",
   "execution_count": 141,
   "id": "d481b5cd",
   "metadata": {},
   "outputs": [
    {
     "name": "stdout",
     "output_type": "stream",
     "text": [
      "Epoch 1/5\n",
      "527/527 [==============================] - 10s 17ms/step - loss: 0.1590 - val_loss: 0.1110\n",
      "Epoch 2/5\n",
      "527/527 [==============================] - 8s 16ms/step - loss: 0.1269 - val_loss: 0.0901\n",
      "Epoch 3/5\n",
      "527/527 [==============================] - 8s 16ms/step - loss: 0.1226 - val_loss: 0.0980\n",
      "Epoch 4/5\n",
      "527/527 [==============================] - 8s 16ms/step - loss: 0.1180 - val_loss: 0.0990\n",
      "Epoch 5/5\n",
      "527/527 [==============================] - 8s 16ms/step - loss: 0.1188 - val_loss: 0.0912\n"
     ]
    },
    {
     "data": {
      "text/plain": [
       "<keras.src.callbacks.History at 0x421c9a950>"
      ]
     },
     "execution_count": 141,
     "metadata": {},
     "output_type": "execute_result"
    }
   ],
   "source": [
    "model.fit(X_train_glove_scl, \n",
    "          y=y_train_glove_enc, \n",
    "          batch_size=64, \n",
    "          epochs=5, \n",
    "          verbose=1, \n",
    "          validation_data = (X_test_glove_scl, \n",
    "                             y_test_glove_enc))\n"
   ]
  },
  {
   "cell_type": "code",
   "execution_count": 142,
   "id": "c9d0654d",
   "metadata": {},
   "outputs": [
    {
     "name": "stdout",
     "output_type": "stream",
     "text": [
      "351/351 [==============================] - 1s 2ms/step\n",
      "Accuracy: 0.9684632516703786\n"
     ]
    }
   ],
   "source": [
    "# Make predictions on the test set\n",
    "y_pred_prob = model.predict(X_test_glove_scl)\n",
    "y_pred = (y_pred_prob > 0.5).astype(int)\n",
    "\n",
    "# Calculate accuracy\n",
    "accuracy = accuracy_score(y_test, np.argmax(y_pred, axis=1))\n",
    "print(f\"Accuracy: {accuracy}\")"
   ]
  },
  {
   "cell_type": "code",
   "execution_count": null,
   "id": "b300421c",
   "metadata": {},
   "outputs": [],
   "source": []
  },
  {
   "cell_type": "code",
   "execution_count": 143,
   "id": "59e6beb2",
   "metadata": {},
   "outputs": [],
   "source": [
    "token = text.Tokenizer(num_words=None)\n",
    "max_len = 70\n",
    "\n",
    "token.fit_on_texts(list(X_train) + list(X_test))\n",
    "X_train_seq = token.texts_to_sequences(X_train)\n",
    "X_test_seq = token.texts_to_sequences(X_test)"
   ]
  },
  {
   "cell_type": "code",
   "execution_count": 148,
   "id": "1543dfdf",
   "metadata": {},
   "outputs": [],
   "source": [
    "# Zero pad the sequences\n",
    "X_train_pad = sequence.pad_sequences(X_train_seq, maxlen=max_len)\n",
    "X_test_pad = sequence.pad_sequences(X_test_seq, maxlen=max_len)\n",
    "\n",
    "word_index = token.word_index"
   ]
  },
  {
   "cell_type": "code",
   "execution_count": 145,
   "id": "9a330b8e",
   "metadata": {},
   "outputs": [
    {
     "name": "stderr",
     "output_type": "stream",
     "text": [
      "100%|█████████████████████████████████████████████████| 106160/106160 [00:00<00:00, 240657.46it/s]\n"
     ]
    }
   ],
   "source": [
    "# Creating embedding matrix for the words in the data set\n",
    "embedding_matrix = np.zeros((len(word_index) + 1, 300))\n",
    "\n",
    "for word, i in tqdm(word_index.items()):\n",
    "    embedding_vector = glove_embeddings.get(word)\n",
    "    if embedding_vector is not None:\n",
    "        embedding_matrix[i] = embedding_vector"
   ]
  },
  {
   "cell_type": "code",
   "execution_count": 136,
   "id": "e8770004",
   "metadata": {},
   "outputs": [],
   "source": [
    "from keras.layers import GlobalMaxPooling1D, Conv1D, MaxPooling1D, Flatten, Bidirectional, SpatialDropout1D"
   ]
  },
  {
   "cell_type": "code",
   "execution_count": 146,
   "id": "e91b927d",
   "metadata": {},
   "outputs": [
    {
     "name": "stdout",
     "output_type": "stream",
     "text": [
      "WARNING:tensorflow:Layer lstm_1 will not use cuDNN kernels since it doesn't meet the criteria. It will use a generic GPU kernel as fallback when running on GPU.\n"
     ]
    }
   ],
   "source": [
    "# A simple LSTM with glove embeddings and two dense layers\n",
    "model = Sequential()\n",
    "\n",
    "# Embedding is used for converting integer indices to dense vector of fixed size\n",
    "model.add(Embedding(len(word_index) + 1, # input dimension, representing vocabulary size\n",
    "                    300, # output dimension, size of dense embedding\n",
    "                    weights = [embedding_matrix], #initializes the embedding layer with pre-trained word embeddings like word2vec or glove\n",
    "                    input_length = max_len, # len of input sequence\n",
    "                    trainable=False # Freezes the embedding layer during training, meaning trained word embedding won't be updated\n",
    "                   ))\n",
    "model.add(SpatialDropout1D(0.3)) # to prevent overfitting by randomly setting fraction of input units to zero at each update during training. o.3 is dropout rate.\n",
    "\n",
    "model.add(LSTM(100, # layer with 100 units\n",
    "               dropout=0.3,  # dropout rate for input units\n",
    "               recurrent_dropout=0.3 # dropout rate for recurrent units\n",
    "              ))\n",
    "\n",
    "# Defining two fully connected (dense) layers with 1024 units and ReLU activation function\n",
    "model.add(Dense(1024, activation='relu'))\n",
    "model.add(Dropout(0.8)) # dropout rate for each dense layer\n",
    "\n",
    "model.add(Dense(1024, activation='relu'))\n",
    "model.add(Dropout(0.8))\n",
    "\n",
    "# Final Dense Layer with 2 units representing no. of output classes\n",
    "model.add(Dense(2))\n",
    "# Softmax activation used for multiclass classification\n",
    "model.add(Activation('softmax'))\n",
    "model.compile(loss='categorical_crossentropy', optimizer='adam')"
   ]
  },
  {
   "cell_type": "code",
   "execution_count": 154,
   "id": "ec5fc4a3",
   "metadata": {},
   "outputs": [
    {
     "name": "stdout",
     "output_type": "stream",
     "text": [
      "Epoch 1/10\n",
      "34/34 [==============================] - 261s 8s/step - loss: 0.1901 - val_loss: 0.1471\n",
      "Epoch 2/10\n",
      "34/34 [==============================] - 331s 10s/step - loss: 0.1636 - val_loss: 0.1577\n",
      "Epoch 3/10\n",
      "34/34 [==============================] - 401s 12s/step - loss: 0.1497 - val_loss: 0.1636\n",
      "Epoch 4/10\n",
      "34/34 [==============================] - 497s 15s/step - loss: 0.1379 - val_loss: 0.1425\n",
      "Epoch 5/10\n",
      "34/34 [==============================] - 613s 18s/step - loss: 0.1330 - val_loss: 0.1374\n",
      "Epoch 6/10\n",
      "34/34 [==============================] - 542s 16s/step - loss: 0.1209 - val_loss: 0.1360\n",
      "Epoch 7/10\n",
      "34/34 [==============================] - 460s 13s/step - loss: 0.1163 - val_loss: 0.1287\n",
      "Epoch 8/10\n",
      "34/34 [==============================] - 431s 13s/step - loss: 0.1096 - val_loss: 0.1360\n",
      "Epoch 9/10\n",
      "34/34 [==============================] - 406s 12s/step - loss: 0.1033 - val_loss: 0.1109\n",
      "Epoch 10/10\n",
      "34/34 [==============================] - 3218s 97s/step - loss: 0.0975 - val_loss: 0.1281\n"
     ]
    },
    {
     "data": {
      "text/plain": [
       "<keras.src.callbacks.History at 0x786bb3a90>"
      ]
     },
     "execution_count": 154,
     "metadata": {},
     "output_type": "execute_result"
    }
   ],
   "source": [
    "model.fit(X_train_pad,\n",
    "          y = y_train_glove_enc,\n",
    "          batch_size=1000, #determines the number of samples that will be used in each iteration of training. \n",
    "          epochs=10, # 1 epoch is one complete pass through the entire training dataset.\n",
    "          verbose=1, # progress bars will be displayed for each epoch.\n",
    "          validation_data = (X_test_pad, y_test_glove_enc) # evaluated against test data\n",
    "         )"
   ]
  },
  {
   "cell_type": "code",
   "execution_count": 156,
   "id": "51d13d83",
   "metadata": {},
   "outputs": [
    {
     "name": "stdout",
     "output_type": "stream",
     "text": [
      "351/351 [==============================] - 82s 233ms/step\n",
      "Accuracy: 0.955902004454343\n"
     ]
    }
   ],
   "source": [
    "# Make predictions on the test set\n",
    "y_pred_prob = model.predict(X_test_pad)\n",
    "y_pred = (y_pred_prob > 0.5).astype(int)\n",
    "\n",
    "# Calculate accuracy\n",
    "accuracy = accuracy_score(y_test, np.argmax(y_pred, axis=1))\n",
    "print(f\"Accuracy: {accuracy}\")"
   ]
  },
  {
   "cell_type": "code",
   "execution_count": null,
   "id": "acfb9b0e",
   "metadata": {},
   "outputs": [],
   "source": [
    "# Fit the model with early stopping callback\n",
    "earlystop = EarlyStopping(monitor='val_loss',  # metric to be monitored for early stopping\n",
    "                          min_delta=0.01, # min change in the metric to qualify as improvement\n",
    "                          patience=3, # no. of consecutive epochs with no improvement after which training will stopped\n",
    "                          verbose=0,\n",
    "                          mode='auto' # automatically infer the direction based on monitored metric. Like here for val_loss it should be decreasing.\n",
    "                         )\n",
    "\n",
    "model.fit(X_train_pad,\n",
    "          y = y_train_glove_enc,\n",
    "          batch_size=100, #determines the number of samples that will be used in each iteration of training. \n",
    "          epochs=10, # 1 epoch is one complete pass through the entire training dataset.\n",
    "          verbose=1, # progress bars will be displayed for each epoch.\n",
    "          validation_data = (X_test_pad, y_test_glove_enc) # evaluated against test data\n",
    "          callbacks=[earlystop]\n",
    "         )"
   ]
  },
  {
   "cell_type": "code",
   "execution_count": null,
   "id": "5e44afdd",
   "metadata": {},
   "outputs": [],
   "source": [
    "# A simple Bi-directional LSTM with glove embeddings and 2 dense layers\n",
    "\n",
    "model = Sequential()\n",
    "model.add(Embedding(len(word_index) + 1,\n",
    "                     300,\n",
    "                     weights=[embedding_matrix],\n",
    "                     input_length=max_len,\n",
    "                     trainable=False))\n",
    "\n",
    "model.add(SpatialDropout1D(0.3))\n",
    "\n",
    "model.add(Bidirectional(LSTM(300, \n",
    "                             dropout=0.3, \n",
    "                             recurrent_dropout=0.3)))\n",
    "\n",
    "model.add(Dense(1024, activation='relu'))\n",
    "model.add(Dropout(0.8))\n",
    "\n",
    "model.add(Dense(1024, activation='relu'))\n",
    "model.add(Dropout(0.8))\n",
    "\n",
    "model.add(Dense(3))\n",
    "model.add(Activation('softmax'))\n",
    "model.compile(loss='categorical_crossentropy', optimizer='adam')"
   ]
  },
  {
   "cell_type": "code",
   "execution_count": null,
   "id": "fdbd11a9",
   "metadata": {},
   "outputs": [],
   "source": [
    "model.fit(X_train_pad,\n",
    "          y = y_train_glove_enc,\n",
    "          batch_size=100, #determines the number of samples that will be used in each iteration of training. \n",
    "          epochs=10, # 1 epoch is one complete pass through the entire training dataset.\n",
    "          verbose=1, # progress bars will be displayed for each epoch.\n",
    "          validation_data = (X_test_pad, y_test_glove_enc) # evaluated against test data\n",
    "          callbacks=[earlystop]\n",
    "         )"
   ]
  },
  {
   "cell_type": "code",
   "execution_count": null,
   "id": "55755324",
   "metadata": {},
   "outputs": [],
   "source": []
  },
  {
   "cell_type": "code",
   "execution_count": null,
   "id": "c6a0e581",
   "metadata": {},
   "outputs": [],
   "source": [
    "# GRU with glove embeddings and two dense layers\n",
    "model = Sequential()\n",
    "model.add(Embedding(len(word_index) + 1,\n",
    "                    300,\n",
    "                    weights = [embedding_matrix],\n",
    "                    input_length = max_len,\n",
    "                    trainable= False                   \n",
    "                   ))\n",
    "\n",
    "model.add(SpatialDropout1D(0.3))\n",
    "\n",
    "model.add(GRU(300,\n",
    "              dropout=0.3,\n",
    "              recurrent_dropout=0.3,\n",
    "              return_sequences=True # returns the full sequence of outputs for each input sequence.\n",
    "             ))\n",
    "model.add(GRU(300,\n",
    "              droput=0.3, \n",
    "              recurrent_dropout=0.3\n",
    "             ))\n",
    "\n",
    "model.add(Dense(1024, activation='relu'))\n",
    "model.add(Dropout(0.8))\n",
    "\n",
    "model.add(Dense(1024, activation='relu'))\n",
    "model.add(Dropout(0.8))\n",
    "\n",
    "model.add(Dense(3))\n",
    "model.add(Activation('softmax'))\n",
    "model.compile(loss='categorical_crossentropy', optimizer='adam')\n",
    "\n"
   ]
  },
  {
   "cell_type": "code",
   "execution_count": null,
   "id": "5a46d927",
   "metadata": {},
   "outputs": [],
   "source": [
    "model.fit(X_train_pad,\n",
    "          y = y_train_glove_enc,\n",
    "          batch_size=100, #determines the number of samples that will be used in each iteration of training. \n",
    "          epochs=10, # 1 epoch is one complete pass through the entire training dataset.\n",
    "          verbose=1, # progress bars will be displayed for each epoch.\n",
    "          validation_data = (X_test_pad, y_test_glove_enc) # evaluated against test data\n",
    "          callbacks=[earlystop]\n",
    "         )"
   ]
  }
 ],
 "metadata": {
  "kernelspec": {
   "display_name": "NLP",
   "language": "python",
   "name": "nlp"
  },
  "language_info": {
   "codemirror_mode": {
    "name": "ipython",
    "version": 3
   },
   "file_extension": ".py",
   "mimetype": "text/x-python",
   "name": "python",
   "nbconvert_exporter": "python",
   "pygments_lexer": "ipython3",
   "version": "3.10.13"
  },
  "toc": {
   "base_numbering": 1,
   "nav_menu": {},
   "number_sections": true,
   "sideBar": true,
   "skip_h1_title": false,
   "title_cell": "Table of Contents",
   "title_sidebar": "Contents",
   "toc_cell": false,
   "toc_position": {},
   "toc_section_display": true,
   "toc_window_display": false
  }
 },
 "nbformat": 4,
 "nbformat_minor": 5
}
