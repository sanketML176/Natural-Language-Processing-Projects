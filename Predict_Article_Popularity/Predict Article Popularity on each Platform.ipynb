{
 "cells": [
  {
   "cell_type": "markdown",
   "id": "27d4fab6",
   "metadata": {},
   "source": [
    "**Objective:**\n",
    "\n",
    "    Train a model based on title embeddings, topic since publishing, sentiment in order to predict article's popularity on each platform"
   ]
  },
  {
   "cell_type": "code",
   "execution_count": 2,
   "id": "2d954f73",
   "metadata": {
    "ExecuteTime": {
     "end_time": "2024-02-04T07:51:45.362958Z",
     "start_time": "2024-02-04T07:51:45.351612Z"
    }
   },
   "outputs": [],
   "source": [
    "import pandas as pd\n",
    "import gensim\n",
    "import seaborn as sns\n",
    "import matplotlib.pyplot as plt\n",
    "import numpy as np\n",
    "# import xgboost as xgb"
   ]
  },
  {
   "cell_type": "code",
   "execution_count": 4,
   "id": "a358605e",
   "metadata": {
    "ExecuteTime": {
     "end_time": "2024-02-04T07:52:13.688501Z",
     "start_time": "2024-02-04T07:52:13.311285Z"
    }
   },
   "outputs": [],
   "source": [
    "data = pd.read_csv('./Data/News_Final.csv')"
   ]
  },
  {
   "cell_type": "code",
   "execution_count": 6,
   "id": "998ec6b8",
   "metadata": {
    "ExecuteTime": {
     "end_time": "2024-02-04T07:53:18.725003Z",
     "start_time": "2024-02-04T07:53:18.699155Z"
    }
   },
   "outputs": [
    {
     "data": {
      "text/html": [
       "<div>\n",
       "<style scoped>\n",
       "    .dataframe tbody tr th:only-of-type {\n",
       "        vertical-align: middle;\n",
       "    }\n",
       "\n",
       "    .dataframe tbody tr th {\n",
       "        vertical-align: top;\n",
       "    }\n",
       "\n",
       "    .dataframe thead th {\n",
       "        text-align: right;\n",
       "    }\n",
       "</style>\n",
       "<table border=\"1\" class=\"dataframe\">\n",
       "  <thead>\n",
       "    <tr style=\"text-align: right;\">\n",
       "      <th></th>\n",
       "      <th>IDLink</th>\n",
       "      <th>Title</th>\n",
       "      <th>Headline</th>\n",
       "      <th>Source</th>\n",
       "      <th>Topic</th>\n",
       "      <th>PublishDate</th>\n",
       "      <th>SentimentTitle</th>\n",
       "      <th>SentimentHeadline</th>\n",
       "      <th>Facebook</th>\n",
       "      <th>GooglePlus</th>\n",
       "      <th>LinkedIn</th>\n",
       "    </tr>\n",
       "  </thead>\n",
       "  <tbody>\n",
       "    <tr>\n",
       "      <th>0</th>\n",
       "      <td>99248.0</td>\n",
       "      <td>Obama Lays Wreath at Arlington National Cemetery</td>\n",
       "      <td>Obama Lays Wreath at Arlington National Cemete...</td>\n",
       "      <td>USA TODAY</td>\n",
       "      <td>obama</td>\n",
       "      <td>2002-04-02 00:00:00</td>\n",
       "      <td>0.000000</td>\n",
       "      <td>-0.053300</td>\n",
       "      <td>-1</td>\n",
       "      <td>-1</td>\n",
       "      <td>-1</td>\n",
       "    </tr>\n",
       "    <tr>\n",
       "      <th>1</th>\n",
       "      <td>10423.0</td>\n",
       "      <td>A Look at the Health of the Chinese Economy</td>\n",
       "      <td>Tim Haywood, investment director business-unit...</td>\n",
       "      <td>Bloomberg</td>\n",
       "      <td>economy</td>\n",
       "      <td>2008-09-20 00:00:00</td>\n",
       "      <td>0.208333</td>\n",
       "      <td>-0.156386</td>\n",
       "      <td>-1</td>\n",
       "      <td>-1</td>\n",
       "      <td>-1</td>\n",
       "    </tr>\n",
       "    <tr>\n",
       "      <th>2</th>\n",
       "      <td>18828.0</td>\n",
       "      <td>Nouriel Roubini: Global Economy Not Back to 2008</td>\n",
       "      <td>Nouriel Roubini, NYU professor and chairman at...</td>\n",
       "      <td>Bloomberg</td>\n",
       "      <td>economy</td>\n",
       "      <td>2012-01-28 00:00:00</td>\n",
       "      <td>-0.425210</td>\n",
       "      <td>0.139754</td>\n",
       "      <td>-1</td>\n",
       "      <td>-1</td>\n",
       "      <td>-1</td>\n",
       "    </tr>\n",
       "    <tr>\n",
       "      <th>3</th>\n",
       "      <td>27788.0</td>\n",
       "      <td>Finland GDP Expands In Q4</td>\n",
       "      <td>Finland's economy expanded marginally in the t...</td>\n",
       "      <td>RTT News</td>\n",
       "      <td>economy</td>\n",
       "      <td>2015-03-01 00:06:00</td>\n",
       "      <td>0.000000</td>\n",
       "      <td>0.026064</td>\n",
       "      <td>-1</td>\n",
       "      <td>-1</td>\n",
       "      <td>-1</td>\n",
       "    </tr>\n",
       "    <tr>\n",
       "      <th>4</th>\n",
       "      <td>27789.0</td>\n",
       "      <td>Tourism, govt spending buoys Thai economy in J...</td>\n",
       "      <td>Tourism and public spending continued to boost...</td>\n",
       "      <td>The Nation - Thailand&amp;#39;s English news</td>\n",
       "      <td>economy</td>\n",
       "      <td>2015-03-01 00:11:00</td>\n",
       "      <td>0.000000</td>\n",
       "      <td>0.141084</td>\n",
       "      <td>-1</td>\n",
       "      <td>-1</td>\n",
       "      <td>-1</td>\n",
       "    </tr>\n",
       "  </tbody>\n",
       "</table>\n",
       "</div>"
      ],
      "text/plain": [
       "    IDLink                                              Title  \\\n",
       "0  99248.0   Obama Lays Wreath at Arlington National Cemetery   \n",
       "1  10423.0        A Look at the Health of the Chinese Economy   \n",
       "2  18828.0   Nouriel Roubini: Global Economy Not Back to 2008   \n",
       "3  27788.0                          Finland GDP Expands In Q4   \n",
       "4  27789.0  Tourism, govt spending buoys Thai economy in J...   \n",
       "\n",
       "                                            Headline  \\\n",
       "0  Obama Lays Wreath at Arlington National Cemete...   \n",
       "1  Tim Haywood, investment director business-unit...   \n",
       "2  Nouriel Roubini, NYU professor and chairman at...   \n",
       "3  Finland's economy expanded marginally in the t...   \n",
       "4  Tourism and public spending continued to boost...   \n",
       "\n",
       "                                     Source    Topic          PublishDate  \\\n",
       "0                                 USA TODAY    obama  2002-04-02 00:00:00   \n",
       "1                                 Bloomberg  economy  2008-09-20 00:00:00   \n",
       "2                                 Bloomberg  economy  2012-01-28 00:00:00   \n",
       "3                                  RTT News  economy  2015-03-01 00:06:00   \n",
       "4  The Nation - Thailand&#39;s English news  economy  2015-03-01 00:11:00   \n",
       "\n",
       "   SentimentTitle  SentimentHeadline  Facebook  GooglePlus  LinkedIn  \n",
       "0        0.000000          -0.053300        -1          -1        -1  \n",
       "1        0.208333          -0.156386        -1          -1        -1  \n",
       "2       -0.425210           0.139754        -1          -1        -1  \n",
       "3        0.000000           0.026064        -1          -1        -1  \n",
       "4        0.000000           0.141084        -1          -1        -1  "
      ]
     },
     "execution_count": 6,
     "metadata": {},
     "output_type": "execute_result"
    }
   ],
   "source": [
    "data.head()"
   ]
  },
  {
   "cell_type": "code",
   "execution_count": 7,
   "id": "5250b328",
   "metadata": {
    "ExecuteTime": {
     "end_time": "2024-02-04T07:53:35.413941Z",
     "start_time": "2024-02-04T07:53:35.406253Z"
    }
   },
   "outputs": [
    {
     "data": {
      "text/plain": [
       "Index(['IDLink', 'Title', 'Headline', 'Source', 'Topic', 'PublishDate',\n",
       "       'SentimentTitle', 'SentimentHeadline', 'Facebook', 'GooglePlus',\n",
       "       'LinkedIn'],\n",
       "      dtype='object')"
      ]
     },
     "execution_count": 7,
     "metadata": {},
     "output_type": "execute_result"
    }
   ],
   "source": [
    "data.columns"
   ]
  },
  {
   "cell_type": "code",
   "execution_count": 10,
   "id": "c722dbed",
   "metadata": {
    "ExecuteTime": {
     "end_time": "2024-02-04T07:54:13.710802Z",
     "start_time": "2024-02-04T07:54:13.684723Z"
    }
   },
   "outputs": [
    {
     "data": {
      "text/plain": [
       "Bloomberg                     1732\n",
       "Reuters                       1321\n",
       "ABC News                      1098\n",
       "New York Times                 992\n",
       "The Guardian                   933\n",
       "Business Insider               884\n",
       "Economic Times                 787\n",
       "Forbes                         781\n",
       "Washington Post                774\n",
       "CNN                            742\n",
       "Wall Street Journal            730\n",
       "WinBeta                        707\n",
       "CNBC                           682\n",
       "Huffington Post                676\n",
       "Breitbart News                 605\n",
       "Reuters via Yahoo! Finance     551\n",
       "The Hill                       548\n",
       "Financial Times                544\n",
       "USA TODAY                      530\n",
       "ZDNet                          526\n",
       "MSPoweruser.com                516\n",
       "Daily Mail                     510\n",
       "Fox News                       505\n",
       "AFP via Yahoo! News            501\n",
       "NPR                            481\n",
       "Name: Source, dtype: int64"
      ]
     },
     "execution_count": 10,
     "metadata": {},
     "output_type": "execute_result"
    }
   ],
   "source": [
    "data.Source.value_counts().head(25)"
   ]
  },
  {
   "cell_type": "code",
   "execution_count": null,
   "id": "7716b5b3",
   "metadata": {},
   "outputs": [],
   "source": []
  }
 ],
 "metadata": {
  "kernelspec": {
   "display_name": "Python 3 (ipykernel)",
   "language": "python",
   "name": "python3"
  },
  "language_info": {
   "codemirror_mode": {
    "name": "ipython",
    "version": 3
   },
   "file_extension": ".py",
   "mimetype": "text/x-python",
   "name": "python",
   "nbconvert_exporter": "python",
   "pygments_lexer": "ipython3",
   "version": "3.9.12"
  },
  "toc": {
   "base_numbering": 1,
   "nav_menu": {},
   "number_sections": true,
   "sideBar": true,
   "skip_h1_title": false,
   "title_cell": "Table of Contents",
   "title_sidebar": "Contents",
   "toc_cell": false,
   "toc_position": {},
   "toc_section_display": true,
   "toc_window_display": false
  }
 },
 "nbformat": 4,
 "nbformat_minor": 5
}
